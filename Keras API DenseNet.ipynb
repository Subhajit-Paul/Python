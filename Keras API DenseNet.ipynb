{
 "cells": [
  {
   "cell_type": "markdown",
   "id": "143fd329",
   "metadata": {},
   "source": [
    "#  Comparison Between Keras Sequential API and DenseNet API models"
   ]
  },
  {
   "cell_type": "code",
   "execution_count": 1,
   "id": "d004d662",
   "metadata": {},
   "outputs": [],
   "source": [
    "import tensorflow\n",
    "from tensorflow import keras\n",
    "from sklearn.model_selection import train_test_split\n",
    "import cv2\n",
    "import matplotlib.pyplot as plt\n",
    "%matplotlib inline"
   ]
  },
  {
   "cell_type": "code",
   "execution_count": 2,
   "id": "865b0d40",
   "metadata": {},
   "outputs": [],
   "source": [
    "from keras.layers import Dense, Conv2D, MaxPool2D, Flatten, Dropout\n",
    "from keras.datasets import mnist"
   ]
  },
  {
   "cell_type": "code",
   "execution_count": 3,
   "id": "494f6a3e",
   "metadata": {},
   "outputs": [],
   "source": [
    "import numpy as np\n",
    "import pandas as pd"
   ]
  },
  {
   "cell_type": "markdown",
   "id": "1886ec34",
   "metadata": {},
   "source": [
    "## loading Mnist data"
   ]
  },
  {
   "cell_type": "code",
   "execution_count": 4,
   "id": "88339d36",
   "metadata": {},
   "outputs": [],
   "source": [
    "data = mnist.load_data()"
   ]
  },
  {
   "cell_type": "code",
   "execution_count": 5,
   "id": "4a67b7d0",
   "metadata": {},
   "outputs": [],
   "source": [
    "X_train, y_train = data[0][0], data[0][1]\n",
    "X_test, y_test = data[1][0], data[1][1]"
   ]
  },
  {
   "cell_type": "markdown",
   "id": "00b59343",
   "metadata": {},
   "source": [
    "## Preparing Data For DenseNet"
   ]
  },
  {
   "cell_type": "code",
   "execution_count": 6,
   "id": "2acbb47c",
   "metadata": {},
   "outputs": [],
   "source": [
    "#The keras densenet model doesn't support image with dimension not less than (32, 32, 1)\n",
    "X_traind = np.zeros((X_train.shape[0], 50, 50))\n",
    "X_testd = np.zeros((X_test.shape[0], 50, 50))\n",
    "for i in range(X_train.shape[0]): X_traind[i] = cv2.resize(X_train[i], (50, 50)) # shape = (60k, 50, 50)\n",
    "for i in range(X_test.shape[0]): X_testd[i] = cv2.resize(X_test[i], (50, 50)) #shape = (10k, 50, 50)\n",
    "X_traind = X_traind.astype(np.float16) / 255 \n",
    "X_testd = X_testd.astype(np.float16) / 255 \n",
    "\n",
    "X_traind = np.expand_dims(X_traind, -1) #shape = (60k, 50, 50, 1)\n",
    "X_testd = np.expand_dims(X_testd, -1) #shape = (10k, 50, 50, 1)\n",
    "\n",
    "y_traind = keras.utils.to_categorical(y_train)\n",
    "y_testd = keras.utils.to_categorical(y_test)"
   ]
  },
  {
   "cell_type": "markdown",
   "id": "11f54511",
   "metadata": {},
   "source": [
    "## Preparing Data For Sequential Model using Convolutions"
   ]
  },
  {
   "cell_type": "code",
   "execution_count": 10,
   "id": "6ac62378",
   "metadata": {},
   "outputs": [],
   "source": [
    "X_train = X_train.astype(np.float16) / 255 #shape = (60k, 28, 28)\n",
    "X_test = X_test.astype(np.float16) / 255 #shape = (10k, 28, 28)\n",
    "\n",
    "X_train = np.expand_dims(X_train, -1) #shape = (60k, 28, 28, 1)\n",
    "X_test = np.expand_dims(X_test, -1) #shape = (10k, 28, 28, 1)\n",
    "y_train = keras.utils.to_categorical(y_train)\n",
    "y_test = keras.utils.to_categorical(y_test)"
   ]
  },
  {
   "cell_type": "markdown",
   "id": "7bd64a45",
   "metadata": {},
   "source": [
    "# Sequential Model"
   ]
  },
  {
   "cell_type": "code",
   "execution_count": 11,
   "id": "2919a24d",
   "metadata": {},
   "outputs": [],
   "source": [
    "model = keras.Sequential()"
   ]
  },
  {
   "cell_type": "code",
   "execution_count": 12,
   "id": "026678e6",
   "metadata": {},
   "outputs": [],
   "source": [
    "model.add(Conv2D(32, (3, 3), activation = 'relu', input_shape = (28, 28, 1)))\n",
    "model.add(MaxPool2D(4, 4))\n",
    "\n",
    "model.add(Conv2D(64, (3, 3), activation = 'relu'))\n",
    "model.add(MaxPool2D(4, 4))\n",
    "\n",
    "model.add(Flatten())\n",
    "model.add(Dropout(0.5))\n",
    "model.add(Dense(10, activation = 'softmax'))"
   ]
  },
  {
   "cell_type": "code",
   "execution_count": 13,
   "id": "1bf41bba",
   "metadata": {},
   "outputs": [],
   "source": [
    "model.compile(optimizer='adam', metrics=['accuracy'], loss=keras.losses.categorical_crossentropy)"
   ]
  },
  {
   "cell_type": "code",
   "execution_count": 14,
   "id": "3acaa2db",
   "metadata": {
    "scrolled": true
   },
   "outputs": [
    {
     "name": "stdout",
     "output_type": "stream",
     "text": [
      "Epoch 1/100\n",
      "1407/1407 [==============================] - 14s 10ms/step - loss: 0.7953 - accuracy: 0.7433 - val_loss: 0.1916 - val_accuracy: 0.9510\n",
      "Epoch 2/100\n",
      "1407/1407 [==============================] - 13s 10ms/step - loss: 0.3519 - accuracy: 0.8910 - val_loss: 0.1385 - val_accuracy: 0.9602\n",
      "Epoch 3/100\n",
      "1407/1407 [==============================] - 14s 10ms/step - loss: 0.2815 - accuracy: 0.9134 - val_loss: 0.1027 - val_accuracy: 0.9711\n",
      "Epoch 4/100\n",
      "1407/1407 [==============================] - 13s 10ms/step - loss: 0.2451 - accuracy: 0.9249 - val_loss: 0.0865 - val_accuracy: 0.9744\n",
      "Epoch 5/100\n",
      "1128/1407 [=======================>......] - ETA: 2s - loss: 0.2229 - accuracy: 0.9313"
     ]
    }
   ],
   "source": [
    "model_history_n = model.fit(X_train, y_train, epochs=100, validation_split=0.25)"
   ]
  },
  {
   "cell_type": "code",
   "execution_count": 16,
   "id": "14b5a985",
   "metadata": {},
   "outputs": [
    {
     "ename": "NameError",
     "evalue": "name 'model_history_n' is not defined",
     "output_type": "error",
     "traceback": [
      "\u001b[1;31m---------------------------------------------------------------------------\u001b[0m",
      "\u001b[1;31mNameError\u001b[0m                                 Traceback (most recent call last)",
      "Input \u001b[1;32mIn [16]\u001b[0m, in \u001b[0;36m<cell line: 1>\u001b[1;34m()\u001b[0m\n\u001b[1;32m----> 1\u001b[0m plt\u001b[38;5;241m.\u001b[39mplot(\u001b[43mmodel_history_n\u001b[49m\u001b[38;5;241m.\u001b[39mhistory(\u001b[38;5;124m'\u001b[39m\u001b[38;5;124mloss\u001b[39m\u001b[38;5;124m'\u001b[39m), label \u001b[38;5;241m=\u001b[39m \u001b[38;5;124m'\u001b[39m\u001b[38;5;124mTraining Loss\u001b[39m\u001b[38;5;124m'\u001b[39m)\n\u001b[0;32m      2\u001b[0m plt\u001b[38;5;241m.\u001b[39mplot(model_history_n\u001b[38;5;241m.\u001b[39mhistory(\u001b[38;5;124m'\u001b[39m\u001b[38;5;124mval_loss\u001b[39m\u001b[38;5;124m'\u001b[39m), label \u001b[38;5;241m=\u001b[39m \u001b[38;5;124m'\u001b[39m\u001b[38;5;124mValidation Loss\u001b[39m\u001b[38;5;124m'\u001b[39m)\n\u001b[0;32m      3\u001b[0m plt\u001b[38;5;241m.\u001b[39mlegend()\n",
      "\u001b[1;31mNameError\u001b[0m: name 'model_history_n' is not defined"
     ]
    }
   ],
   "source": [
    "plt.plot(model_history_n.history('loss'), label = 'Training Loss')\n",
    "plt.plot(model_history_n.history('val_loss'), label = 'Validation Loss')\n",
    "plt.legend()\n",
    "plt.show()"
   ]
  },
  {
   "cell_type": "code",
   "execution_count": null,
   "id": "348fcd3b",
   "metadata": {},
   "outputs": [],
   "source": [
    "model.evaluate(X_test, y_test)"
   ]
  },
  {
   "cell_type": "code",
   "execution_count": null,
   "id": "78a39bfa",
   "metadata": {},
   "outputs": [],
   "source": [
    "model.predict(np.array(([X_test[1]]))) > .99"
   ]
  },
  {
   "cell_type": "markdown",
   "id": "16d852da",
   "metadata": {},
   "source": [
    "## DenseNet Model"
   ]
  },
  {
   "cell_type": "code",
   "execution_count": 7,
   "id": "991c54bb",
   "metadata": {},
   "outputs": [],
   "source": [
    "modeld = keras.applications.DenseNet121(\n",
    "    include_top=True,\n",
    "    weights=None,\n",
    "    input_tensor=None,\n",
    "    input_shape=(50, 50, 1),\n",
    "    pooling='max',\n",
    "    classes=10,\n",
    ")"
   ]
  },
  {
   "cell_type": "code",
   "execution_count": 8,
   "id": "9234818b",
   "metadata": {},
   "outputs": [],
   "source": [
    "modeld.compile(optimizer='adam', metrics=['accuracy'], loss=keras.losses.categorical_crossentropy)"
   ]
  },
  {
   "cell_type": "code",
   "execution_count": 9,
   "id": "a91ec9f7",
   "metadata": {},
   "outputs": [
    {
     "name": "stdout",
     "output_type": "stream",
     "text": [
      "Epoch 1/50\n",
      "  69/1875 [>.............................] - ETA: 19:47 - loss: 0.5822 - accuracy: 0.8188"
     ]
    },
    {
     "name": "stderr",
     "output_type": "stream",
     "text": [
      "\n",
      "KeyboardInterrupt\n",
      "\n"
     ]
    }
   ],
   "source": [
    "modeld.fit(X_traind, y_traind, epochs=50)"
   ]
  },
  {
   "cell_type": "code",
   "execution_count": null,
   "id": "65a1adfa",
   "metadata": {},
   "outputs": [],
   "source": [
    "modeld.evaluate(X_testd, y_testd)"
   ]
  },
  {
   "cell_type": "code",
   "execution_count": null,
   "id": "de5eb127",
   "metadata": {},
   "outputs": [],
   "source": [
    "model.predict(np.array(([X_testd[1]]))) > .99"
   ]
  },
  {
   "cell_type": "code",
   "execution_count": 12,
   "id": "e7cd3eaa",
   "metadata": {},
   "outputs": [],
   "source": [
    "a = np.loadtxt(r\"C:\\Users\\Subhajit Paul\\Pictures\\data\\pan\\pan.csv\", delimiter = \",\")"
   ]
  },
  {
   "cell_type": "code",
   "execution_count": 14,
   "id": "c6436e21",
   "metadata": {},
   "outputs": [
    {
     "data": {
      "text/plain": [
       "(424, 512)"
      ]
     },
     "execution_count": 14,
     "metadata": {},
     "output_type": "execute_result"
    }
   ],
   "source": [
    "a.shape"
   ]
  },
  {
   "cell_type": "code",
   "execution_count": null,
   "id": "f2b0bdad",
   "metadata": {},
   "outputs": [],
   "source": []
  }
 ],
 "metadata": {
  "kernelspec": {
   "display_name": "Python 3 (ipykernel)",
   "language": "python",
   "name": "python3"
  },
  "language_info": {
   "codemirror_mode": {
    "name": "ipython",
    "version": 3
   },
   "file_extension": ".py",
   "mimetype": "text/x-python",
   "name": "python",
   "nbconvert_exporter": "python",
   "pygments_lexer": "ipython3",
   "version": "3.8.13"
  }
 },
 "nbformat": 4,
 "nbformat_minor": 5
}
