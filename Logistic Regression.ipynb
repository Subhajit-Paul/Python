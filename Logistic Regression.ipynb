{
 "cells": [
  {
   "cell_type": "code",
   "execution_count": 58,
   "id": "d29e2c28",
   "metadata": {},
   "outputs": [],
   "source": [
    "from sklearn.linear_model import LogisticRegression as lreg, LinearRegression as linreg\n",
    "import numpy as np\n",
    "import pandas as pd\n",
    "from sklearn.model_selection import train_test_split\n",
    "import pickle"
   ]
  },
  {
   "cell_type": "code",
   "execution_count": 59,
   "id": "97437709",
   "metadata": {},
   "outputs": [],
   "source": [
    "path = r'C:\\Users\\Subhajit Paul\\Downloads\\archive\\heart.csv'\n",
    "path2 = r'C:\\Users\\Subhajit Paul\\Downloads\\archive\\o2Saturation.csv'\n",
    "heart = pd.read_csv(path)\n",
    "o2 = pd.read_csv(path2)\n",
    "heart = heart.join(o2['O2'])"
   ]
  },
  {
   "cell_type": "markdown",
   "id": "33937bcd",
   "metadata": {},
   "source": [
    "\n",
    "age : age of the person  \n",
    "sex : gender of the person  \n",
    "cp : Chest Pain type  \n",
    "    Value 1: typical angina  \n",
    "    Value 2: atypical angina  \n",
    "    Value 3: non-anginal pain  \n",
    "    Value 4: asymptomatic  \n",
    "trtbps : resting blood pressure (in mm Hg)  \n",
    "chol : cholestoral in mg/dl fetched via BMI sensor  \n",
    "fbs : (fasting blood sugar > 120 mg/dl) (1 = true; 0 = false)  \n",
    "restecg : resting electrocardiographic results  \n",
    "    Value 0: normal  \n",
    "    Value 1: having ST-T wave abnormality (T wave inversions and/or ST elevation or depression of > 0.05 mV)  \n",
    "    Value 2: showing probable or definite left ventricular hypertrophy by Estes' criteria  \n",
    "thalachh : maximum heart rate achieved  \n",
    "exng : exercise induced angina (1 = yes; 0 = no)  \n",
    "oldpeak : Previous peak  \n",
    "O2 : Level of oxygen  \n"
   ]
  },
  {
   "cell_type": "code",
   "execution_count": 60,
   "id": "abc9b674",
   "metadata": {},
   "outputs": [],
   "source": [
    "Y = heart[['cp']].values / np.max(Y)"
   ]
  },
  {
   "cell_type": "code",
   "execution_count": 61,
   "id": "a7df73b6",
   "metadata": {},
   "outputs": [],
   "source": [
    "X = heart.drop(['cp', 'output', 'caa', 'slp', 'thall', 'target'], axis = 1).values"
   ]
  },
  {
   "cell_type": "code",
   "execution_count": 63,
   "id": "e440018d",
   "metadata": {},
   "outputs": [],
   "source": [
    "X_train, X_test, Y_train, Y_test = train_test_split(X, Y, test_size=0.15, random_state=0)\n",
    "y_test = Y_test.reshape((Y_test.shape[0]))\n",
    "y_train = Y_train.reshape((Y_train.shape[0])) \n",
    "X_train, X_test = X_train.astype(np.float16), X_test.astype(np.float16)"
   ]
  },
  {
   "cell_type": "code",
   "execution_count": 64,
   "id": "cea26ada",
   "metadata": {},
   "outputs": [],
   "source": [
    "for i in range(10):\n",
    "    X_train[:,i] = X_train[:,i] / np.max(X_train[:,i])\n",
    "    X_test[:,i] = X_test[:,i] / np.max(X_test[:,i])"
   ]
  },
  {
   "cell_type": "code",
   "execution_count": 66,
   "id": "1303c7a4",
   "metadata": {},
   "outputs": [],
   "source": [
    "model_lin = linreg()"
   ]
  },
  {
   "cell_type": "code",
   "execution_count": 68,
   "id": "612ccb70",
   "metadata": {},
   "outputs": [
    {
     "data": {
      "text/plain": [
       "LinearRegression()"
      ]
     },
     "execution_count": 68,
     "metadata": {},
     "output_type": "execute_result"
    }
   ],
   "source": [
    "model_lin.fit(X_train, y_train)"
   ]
  },
  {
   "cell_type": "code",
   "execution_count": 72,
   "id": "5a7f8d59",
   "metadata": {},
   "outputs": [
    {
     "data": {
      "text/plain": [
       "0.23730297085886798"
      ]
     },
     "execution_count": 72,
     "metadata": {},
     "output_type": "execute_result"
    }
   ],
   "source": [
    "model_lin.score(X_train, y_train)"
   ]
  },
  {
   "cell_type": "code",
   "execution_count": 53,
   "id": "00689047",
   "metadata": {},
   "outputs": [],
   "source": [
    "model = lreg(max_iter=20000, verbose=2)."
   ]
  },
  {
   "cell_type": "code",
   "execution_count": 54,
   "id": "ca25824f",
   "metadata": {},
   "outputs": [
    {
     "name": "stderr",
     "output_type": "stream",
     "text": [
      "[Parallel(n_jobs=1)]: Using backend SequentialBackend with 1 concurrent workers.\n",
      "[Parallel(n_jobs=1)]: Done   1 out of   1 | elapsed:    0.0s remaining:    0.0s\n",
      "[Parallel(n_jobs=1)]: Done   1 out of   1 | elapsed:    0.0s finished\n"
     ]
    },
    {
     "data": {
      "text/plain": [
       "LogisticRegression(max_iter=20000, verbose=2)"
      ]
     },
     "execution_count": 54,
     "metadata": {},
     "output_type": "execute_result"
    }
   ],
   "source": [
    "model.fit(X_train, y_train)"
   ]
  },
  {
   "cell_type": "code",
   "execution_count": 13,
   "id": "c56b265b",
   "metadata": {},
   "outputs": [],
   "source": [
    "predictions = model.predict(X_test)"
   ]
  },
  {
   "cell_type": "code",
   "execution_count": 55,
   "id": "1aaff991",
   "metadata": {},
   "outputs": [
    {
     "data": {
      "text/plain": [
       "0.8478260869565217"
      ]
     },
     "execution_count": 55,
     "metadata": {},
     "output_type": "execute_result"
    }
   ],
   "source": [
    "model.score(X_test, y_test)"
   ]
  },
  {
   "cell_type": "code",
   "execution_count": 52,
   "id": "ef2dfd8a",
   "metadata": {},
   "outputs": [
    {
     "data": {
      "text/plain": [
       "array([[0.95710252, 0.04289748]])"
      ]
     },
     "execution_count": 52,
     "metadata": {},
     "output_type": "execute_result"
    }
   ],
   "source": [
    "model.predict_proba([X_test[3]])"
   ]
  },
  {
   "cell_type": "code",
   "execution_count": 18,
   "id": "906a1ac9",
   "metadata": {},
   "outputs": [],
   "source": [
    "with open('HA_Model.pkl', 'wb') as f:\n",
    "    pickle.dump(model, f)"
   ]
  },
  {
   "cell_type": "code",
   "execution_count": 17,
   "id": "af120573",
   "metadata": {},
   "outputs": [],
   "source": [
    "import pickle"
   ]
  },
  {
   "cell_type": "code",
   "execution_count": 2,
   "id": "4b79d889",
   "metadata": {},
   "outputs": [],
   "source": [
    "with open('HA_Model.pkl', 'rb') as f:\n",
    "    m = pickle.load(f)"
   ]
  },
  {
   "cell_type": "code",
   "execution_count": 46,
   "id": "86c9c7b3",
   "metadata": {},
   "outputs": [
    {
     "data": {
      "text/plain": [
       "False"
      ]
     },
     "execution_count": 46,
     "metadata": {},
     "output_type": "execute_result"
    }
   ],
   "source": [
    "m.predict([X_test[3]])[0] == 1"
   ]
  },
  {
   "cell_type": "code",
   "execution_count": null,
   "id": "cff6e6a1",
   "metadata": {},
   "outputs": [],
   "source": [
    "min(heart['oldpeak'])"
   ]
  },
  {
   "cell_type": "code",
   "execution_count": 20,
   "id": "35584687",
   "metadata": {},
   "outputs": [
    {
     "data": {
      "text/plain": [
       "array([ 60. ,   1. ,   0. , 125. , 258. ,   0. , 141. ,   1. ,   2.8,\n",
       "        97.5])"
      ]
     },
     "execution_count": 20,
     "metadata": {},
     "output_type": "execute_result"
    }
   ],
   "source": [
    "X_test[3]"
   ]
  },
  {
   "cell_type": "code",
   "execution_count": 22,
   "id": "292393a3",
   "metadata": {},
   "outputs": [
    {
     "data": {
      "text/plain": [
       "array([0, 1, 0, 0, 1, 0, 0, 0, 0, 0, 1, 1, 0, 1, 1, 1, 1, 1, 0, 1, 1, 0,\n",
       "       0, 0, 1, 0, 0, 0, 1, 1, 0, 0, 1, 1, 1, 0, 0, 1, 0, 0, 1, 1, 1, 0,\n",
       "       1, 1], dtype=int64)"
      ]
     },
     "execution_count": 22,
     "metadata": {},
     "output_type": "execute_result"
    }
   ],
   "source": [
    "Y_test"
   ]
  },
  {
   "cell_type": "code",
   "execution_count": null,
   "id": "e8f64243",
   "metadata": {},
   "outputs": [],
   "source": []
  }
 ],
 "metadata": {
  "kernelspec": {
   "display_name": "Python 3 (ipykernel)",
   "language": "python",
   "name": "python3"
  },
  "language_info": {
   "codemirror_mode": {
    "name": "ipython",
    "version": 3
   },
   "file_extension": ".py",
   "mimetype": "text/x-python",
   "name": "python",
   "nbconvert_exporter": "python",
   "pygments_lexer": "ipython3",
   "version": "3.8.13"
  }
 },
 "nbformat": 4,
 "nbformat_minor": 5
}
