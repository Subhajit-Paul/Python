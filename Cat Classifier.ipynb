{
 "cells": [
  {
   "cell_type": "markdown",
   "id": "b5c3da35",
   "metadata": {},
   "source": [
    "# Cat Classifier comparison with the help of Sequentian and DenseNet model"
   ]
  },
  {
   "cell_type": "code",
   "execution_count": 16,
   "id": "9387e4e1",
   "metadata": {},
   "outputs": [],
   "source": [
    "import numpy as np\n",
    "import tensorflow\n",
    "import h5py\n",
    "from tensorflow import keras\n",
    "from keras.layers import Conv2D, MaxPool2D, Dense, Flatten, Dropout, \n",
    "import matplotlib.pyplot as plt\n",
    "import cv2\n",
    "%matplotlib inline "
   ]
  },
  {
   "cell_type": "markdown",
   "id": "624def58",
   "metadata": {},
   "source": [
    "## Preaparing Data"
   ]
  },
  {
   "cell_type": "code",
   "execution_count": 17,
   "id": "01a97bcb",
   "metadata": {},
   "outputs": [],
   "source": [
    "train_path = r\"C:\\Users\\Subhajit Paul\\Documents\\cat\\train_catvnoncat.h5\"\n",
    "test_path = r\"C:\\Users\\Subhajit Paul\\Documents\\cat\\test_catvnoncat.h5\""
   ]
  },
  {
   "cell_type": "code",
   "execution_count": 18,
   "id": "b81f568d",
   "metadata": {},
   "outputs": [],
   "source": [
    "train, test = h5py.File(train_path, 'r'), h5py.File(test_path, 'r')"
   ]
  },
  {
   "cell_type": "code",
   "execution_count": 19,
   "id": "b39e69d5",
   "metadata": {},
   "outputs": [],
   "source": [
    "X_train = np.array(train['train_set_x']).astype(np.float16) / 255\n",
    "# X_train = np.expand_dims(X_train, -1)\n",
    "y_train = np.array(train['train_set_y']).astype(np.float16)\n",
    "X_test = np.array(test['test_set_x']).astype(np.float16) / 255\n",
    "# X_test = np.expand_dims(X_test, -1)\n",
    "y_test = np.array(test['test_set_y']).astype(np.float16)\n",
    "\n",
    "y_train = keras.utils.to_categorical(y_train.reshape(-1, 1))\n",
    "y_test = keras.utils.to_categorical(y_test.reshape(-1, 1))"
   ]
  },
  {
   "cell_type": "markdown",
   "id": "64e8b0e3",
   "metadata": {},
   "source": [
    "## sequential Model"
   ]
  },
  {
   "cell_type": "code",
   "execution_count": 20,
   "id": "6d4d9aee",
   "metadata": {},
   "outputs": [],
   "source": [
    "model = keras.Sequential()"
   ]
  },
  {
   "cell_type": "code",
   "execution_count": 21,
   "id": "55ba2190",
   "metadata": {
    "scrolled": true
   },
   "outputs": [
    {
     "ename": "ValueError",
     "evalue": "Input 0 of layer \"lstm\" is incompatible with the layer: expected ndim=3, found ndim=4. Full shape received: (None, 15, 15, 32)",
     "output_type": "error",
     "traceback": [
      "\u001b[1;31m---------------------------------------------------------------------------\u001b[0m",
      "\u001b[1;31mValueError\u001b[0m                                Traceback (most recent call last)",
      "Input \u001b[1;32mIn [21]\u001b[0m, in \u001b[0;36m<cell line: 3>\u001b[1;34m()\u001b[0m\n\u001b[0;32m      1\u001b[0m model\u001b[38;5;241m.\u001b[39madd(Conv2D(\u001b[38;5;241m32\u001b[39m, (\u001b[38;5;241m3\u001b[39m,\u001b[38;5;241m3\u001b[39m), input_shape \u001b[38;5;241m=\u001b[39m (\u001b[38;5;241m64\u001b[39m, \u001b[38;5;241m64\u001b[39m, \u001b[38;5;241m3\u001b[39m), activation \u001b[38;5;241m=\u001b[39m \u001b[38;5;124m'\u001b[39m\u001b[38;5;124mrelu\u001b[39m\u001b[38;5;124m'\u001b[39m))\n\u001b[0;32m      2\u001b[0m model\u001b[38;5;241m.\u001b[39madd(MaxPool2D((\u001b[38;5;241m4\u001b[39m, \u001b[38;5;241m4\u001b[39m)))\n\u001b[1;32m----> 3\u001b[0m \u001b[43mmodel\u001b[49m\u001b[38;5;241;43m.\u001b[39;49m\u001b[43madd\u001b[49m\u001b[43m(\u001b[49m\u001b[43mLSTM\u001b[49m\u001b[43m(\u001b[49m\u001b[38;5;241;43m64\u001b[39;49m\u001b[43m,\u001b[49m\u001b[43m \u001b[49m\u001b[43mactivation\u001b[49m\u001b[43m \u001b[49m\u001b[38;5;241;43m=\u001b[39;49m\u001b[43m \u001b[49m\u001b[38;5;124;43m'\u001b[39;49m\u001b[38;5;124;43mrelu\u001b[39;49m\u001b[38;5;124;43m'\u001b[39;49m\u001b[43m)\u001b[49m\u001b[43m)\u001b[49m\n\u001b[0;32m      4\u001b[0m model\u001b[38;5;241m.\u001b[39madd(Dropout(\u001b[38;5;241m0.5\u001b[39m))\n\u001b[0;32m      5\u001b[0m model\u001b[38;5;241m.\u001b[39madd(Conv2D(\u001b[38;5;241m64\u001b[39m, (\u001b[38;5;241m3\u001b[39m, \u001b[38;5;241m3\u001b[39m), activation\u001b[38;5;241m=\u001b[39m\u001b[38;5;124m'\u001b[39m\u001b[38;5;124mrelu\u001b[39m\u001b[38;5;124m'\u001b[39m))\n",
      "File \u001b[1;32m~\\anaconda3\\lib\\site-packages\\tensorflow\\python\\training\\tracking\\base.py:629\u001b[0m, in \u001b[0;36mno_automatic_dependency_tracking.<locals>._method_wrapper\u001b[1;34m(self, *args, **kwargs)\u001b[0m\n\u001b[0;32m    627\u001b[0m \u001b[38;5;28mself\u001b[39m\u001b[38;5;241m.\u001b[39m_self_setattr_tracking \u001b[38;5;241m=\u001b[39m \u001b[38;5;28;01mFalse\u001b[39;00m  \u001b[38;5;66;03m# pylint: disable=protected-access\u001b[39;00m\n\u001b[0;32m    628\u001b[0m \u001b[38;5;28;01mtry\u001b[39;00m:\n\u001b[1;32m--> 629\u001b[0m   result \u001b[38;5;241m=\u001b[39m \u001b[43mmethod\u001b[49m\u001b[43m(\u001b[49m\u001b[38;5;28;43mself\u001b[39;49m\u001b[43m,\u001b[49m\u001b[43m \u001b[49m\u001b[38;5;241;43m*\u001b[39;49m\u001b[43margs\u001b[49m\u001b[43m,\u001b[49m\u001b[43m \u001b[49m\u001b[38;5;241;43m*\u001b[39;49m\u001b[38;5;241;43m*\u001b[39;49m\u001b[43mkwargs\u001b[49m\u001b[43m)\u001b[49m\n\u001b[0;32m    630\u001b[0m \u001b[38;5;28;01mfinally\u001b[39;00m:\n\u001b[0;32m    631\u001b[0m   \u001b[38;5;28mself\u001b[39m\u001b[38;5;241m.\u001b[39m_self_setattr_tracking \u001b[38;5;241m=\u001b[39m previous_value  \u001b[38;5;66;03m# pylint: disable=protected-access\u001b[39;00m\n",
      "File \u001b[1;32m~\\anaconda3\\lib\\site-packages\\keras\\utils\\traceback_utils.py:67\u001b[0m, in \u001b[0;36mfilter_traceback.<locals>.error_handler\u001b[1;34m(*args, **kwargs)\u001b[0m\n\u001b[0;32m     65\u001b[0m \u001b[38;5;28;01mexcept\u001b[39;00m \u001b[38;5;167;01mException\u001b[39;00m \u001b[38;5;28;01mas\u001b[39;00m e:  \u001b[38;5;66;03m# pylint: disable=broad-except\u001b[39;00m\n\u001b[0;32m     66\u001b[0m   filtered_tb \u001b[38;5;241m=\u001b[39m _process_traceback_frames(e\u001b[38;5;241m.\u001b[39m__traceback__)\n\u001b[1;32m---> 67\u001b[0m   \u001b[38;5;28;01mraise\u001b[39;00m e\u001b[38;5;241m.\u001b[39mwith_traceback(filtered_tb) \u001b[38;5;28;01mfrom\u001b[39;00m \u001b[38;5;28mNone\u001b[39m\n\u001b[0;32m     68\u001b[0m \u001b[38;5;28;01mfinally\u001b[39;00m:\n\u001b[0;32m     69\u001b[0m   \u001b[38;5;28;01mdel\u001b[39;00m filtered_tb\n",
      "File \u001b[1;32m~\\anaconda3\\lib\\site-packages\\keras\\engine\\input_spec.py:214\u001b[0m, in \u001b[0;36massert_input_compatibility\u001b[1;34m(input_spec, inputs, layer_name)\u001b[0m\n\u001b[0;32m    212\u001b[0m   ndim \u001b[38;5;241m=\u001b[39m shape\u001b[38;5;241m.\u001b[39mrank\n\u001b[0;32m    213\u001b[0m   \u001b[38;5;28;01mif\u001b[39;00m ndim \u001b[38;5;241m!=\u001b[39m spec\u001b[38;5;241m.\u001b[39mndim:\n\u001b[1;32m--> 214\u001b[0m     \u001b[38;5;28;01mraise\u001b[39;00m \u001b[38;5;167;01mValueError\u001b[39;00m(\u001b[38;5;124mf\u001b[39m\u001b[38;5;124m'\u001b[39m\u001b[38;5;124mInput \u001b[39m\u001b[38;5;132;01m{\u001b[39;00minput_index\u001b[38;5;132;01m}\u001b[39;00m\u001b[38;5;124m of layer \u001b[39m\u001b[38;5;124m\"\u001b[39m\u001b[38;5;132;01m{\u001b[39;00mlayer_name\u001b[38;5;132;01m}\u001b[39;00m\u001b[38;5;124m\"\u001b[39m\u001b[38;5;124m \u001b[39m\u001b[38;5;124m'\u001b[39m\n\u001b[0;32m    215\u001b[0m                      \u001b[38;5;124m'\u001b[39m\u001b[38;5;124mis incompatible with the layer: \u001b[39m\u001b[38;5;124m'\u001b[39m\n\u001b[0;32m    216\u001b[0m                      \u001b[38;5;124mf\u001b[39m\u001b[38;5;124m'\u001b[39m\u001b[38;5;124mexpected ndim=\u001b[39m\u001b[38;5;132;01m{\u001b[39;00mspec\u001b[38;5;241m.\u001b[39mndim\u001b[38;5;132;01m}\u001b[39;00m\u001b[38;5;124m, found ndim=\u001b[39m\u001b[38;5;132;01m{\u001b[39;00mndim\u001b[38;5;132;01m}\u001b[39;00m\u001b[38;5;124m. \u001b[39m\u001b[38;5;124m'\u001b[39m\n\u001b[0;32m    217\u001b[0m                      \u001b[38;5;124mf\u001b[39m\u001b[38;5;124m'\u001b[39m\u001b[38;5;124mFull shape received: \u001b[39m\u001b[38;5;132;01m{\u001b[39;00m\u001b[38;5;28mtuple\u001b[39m(shape)\u001b[38;5;132;01m}\u001b[39;00m\u001b[38;5;124m'\u001b[39m)\n\u001b[0;32m    218\u001b[0m \u001b[38;5;28;01mif\u001b[39;00m spec\u001b[38;5;241m.\u001b[39mmax_ndim \u001b[38;5;129;01mis\u001b[39;00m \u001b[38;5;129;01mnot\u001b[39;00m \u001b[38;5;28;01mNone\u001b[39;00m:\n\u001b[0;32m    219\u001b[0m   ndim \u001b[38;5;241m=\u001b[39m x\u001b[38;5;241m.\u001b[39mshape\u001b[38;5;241m.\u001b[39mrank\n",
      "\u001b[1;31mValueError\u001b[0m: Input 0 of layer \"lstm\" is incompatible with the layer: expected ndim=3, found ndim=4. Full shape received: (None, 15, 15, 32)"
     ]
    }
   ],
   "source": [
    "model.add(Conv2D(32, (3,3), input_shape = (64, 64, 3), activation = 'relu'))\n",
    "model.add(MaxPool2D((4, 4)))\n",
    "model.add(Dropout(0.5))\n",
    "model.add(Conv2D(64, (3, 3), activation='relu'))\n",
    "model.add(MaxPool2D((4, 4)))\n",
    "model.add(Dropout(0.5))\n",
    "model.add(Flatten())\n",
    "model.add(Dropout(0.5))\n",
    "model.add(Dense(32, activation='relu'))\n",
    "model.add(Dropout(0.5))\n",
    "model.add(Dense(2, activation='softmax'))"
   ]
  },
  {
   "cell_type": "code",
   "execution_count": 7,
   "id": "32893d24",
   "metadata": {},
   "outputs": [],
   "source": [
    "model.compile(optimizer='adam', metrics=['accuracy'], loss=keras.losses.categorical_crossentropy)"
   ]
  },
  {
   "cell_type": "code",
   "execution_count": 8,
   "id": "3a2906a9",
   "metadata": {
    "scrolled": false
   },
   "outputs": [
    {
     "name": "stdout",
     "output_type": "stream",
     "text": [
      "Epoch 1/175\n",
      "7/7 [==============================] - 1s 41ms/step - loss: 0.8327 - accuracy: 0.5215\n",
      "Epoch 2/175\n",
      "7/7 [==============================] - 0s 40ms/step - loss: 0.6466 - accuracy: 0.6507\n",
      "Epoch 3/175\n",
      "7/7 [==============================] - 0s 40ms/step - loss: 0.6850 - accuracy: 0.6316\n",
      "Epoch 4/175\n",
      "7/7 [==============================] - 0s 38ms/step - loss: 0.6248 - accuracy: 0.6507\n",
      "Epoch 5/175\n",
      "7/7 [==============================] - 0s 39ms/step - loss: 0.6315 - accuracy: 0.6459\n",
      "Epoch 6/175\n",
      "7/7 [==============================] - 0s 40ms/step - loss: 0.6160 - accuracy: 0.6555\n",
      "Epoch 7/175\n",
      "7/7 [==============================] - 0s 46ms/step - loss: 0.6109 - accuracy: 0.6459\n",
      "Epoch 8/175\n",
      "7/7 [==============================] - 0s 45ms/step - loss: 0.5819 - accuracy: 0.6603\n",
      "Epoch 9/175\n",
      "7/7 [==============================] - 0s 40ms/step - loss: 0.5739 - accuracy: 0.6555\n",
      "Epoch 10/175\n",
      "7/7 [==============================] - 0s 39ms/step - loss: 0.5590 - accuracy: 0.6555\n",
      "Epoch 11/175\n",
      "7/7 [==============================] - 0s 41ms/step - loss: 0.5363 - accuracy: 0.6555\n",
      "Epoch 12/175\n",
      "7/7 [==============================] - 0s 36ms/step - loss: 0.5341 - accuracy: 0.6555\n",
      "Epoch 13/175\n",
      "7/7 [==============================] - 0s 39ms/step - loss: 0.5045 - accuracy: 0.6555\n",
      "Epoch 14/175\n",
      "7/7 [==============================] - 0s 39ms/step - loss: 0.5057 - accuracy: 0.6555\n",
      "Epoch 15/175\n",
      "7/7 [==============================] - 0s 39ms/step - loss: 0.4912 - accuracy: 0.6794\n",
      "Epoch 16/175\n",
      "7/7 [==============================] - 0s 43ms/step - loss: 0.4652 - accuracy: 0.7129\n",
      "Epoch 17/175\n",
      "7/7 [==============================] - 0s 38ms/step - loss: 0.4500 - accuracy: 0.6842\n",
      "Epoch 18/175\n",
      "7/7 [==============================] - 0s 39ms/step - loss: 0.4453 - accuracy: 0.7799\n",
      "Epoch 19/175\n",
      "7/7 [==============================] - 0s 40ms/step - loss: 0.4290 - accuracy: 0.7416\n",
      "Epoch 20/175\n",
      "7/7 [==============================] - 0s 39ms/step - loss: 0.4024 - accuracy: 0.7990\n",
      "Epoch 21/175\n",
      "7/7 [==============================] - 0s 39ms/step - loss: 0.4140 - accuracy: 0.8230\n",
      "Epoch 22/175\n",
      "7/7 [==============================] - 0s 39ms/step - loss: 0.3917 - accuracy: 0.8278\n",
      "Epoch 23/175\n",
      "7/7 [==============================] - 0s 38ms/step - loss: 0.3858 - accuracy: 0.8182\n",
      "Epoch 24/175\n",
      "7/7 [==============================] - 0s 41ms/step - loss: 0.3826 - accuracy: 0.8565\n",
      "Epoch 25/175\n",
      "7/7 [==============================] - 0s 38ms/step - loss: 0.3769 - accuracy: 0.8373\n",
      "Epoch 26/175\n",
      "7/7 [==============================] - 0s 36ms/step - loss: 0.3673 - accuracy: 0.8756\n",
      "Epoch 27/175\n",
      "7/7 [==============================] - 0s 39ms/step - loss: 0.3541 - accuracy: 0.8469\n",
      "Epoch 28/175\n",
      "7/7 [==============================] - 0s 39ms/step - loss: 0.3556 - accuracy: 0.8469\n",
      "Epoch 29/175\n",
      "7/7 [==============================] - 0s 39ms/step - loss: 0.3332 - accuracy: 0.8804\n",
      "Epoch 30/175\n",
      "7/7 [==============================] - 0s 40ms/step - loss: 0.3418 - accuracy: 0.8517\n",
      "Epoch 31/175\n",
      "7/7 [==============================] - 0s 39ms/step - loss: 0.3522 - accuracy: 0.8804\n",
      "Epoch 32/175\n",
      "7/7 [==============================] - 0s 37ms/step - loss: 0.3356 - accuracy: 0.8230\n",
      "Epoch 33/175\n",
      "7/7 [==============================] - 0s 39ms/step - loss: 0.3459 - accuracy: 0.8804\n",
      "Epoch 34/175\n",
      "7/7 [==============================] - 0s 46ms/step - loss: 0.3132 - accuracy: 0.8852\n",
      "Epoch 35/175\n",
      "7/7 [==============================] - 0s 42ms/step - loss: 0.2946 - accuracy: 0.8804\n",
      "Epoch 36/175\n",
      "7/7 [==============================] - 0s 39ms/step - loss: 0.3249 - accuracy: 0.8804\n",
      "Epoch 37/175\n",
      "7/7 [==============================] - 0s 43ms/step - loss: 0.3139 - accuracy: 0.8660\n",
      "Epoch 38/175\n",
      "7/7 [==============================] - 0s 45ms/step - loss: 0.3169 - accuracy: 0.8804\n",
      "Epoch 39/175\n",
      "7/7 [==============================] - 0s 45ms/step - loss: 0.2947 - accuracy: 0.8995\n",
      "Epoch 40/175\n",
      "7/7 [==============================] - 0s 43ms/step - loss: 0.3007 - accuracy: 0.8756\n",
      "Epoch 41/175\n",
      "7/7 [==============================] - 0s 45ms/step - loss: 0.2811 - accuracy: 0.8947\n",
      "Epoch 42/175\n",
      "7/7 [==============================] - 0s 45ms/step - loss: 0.2870 - accuracy: 0.9043\n",
      "Epoch 43/175\n",
      "7/7 [==============================] - 0s 45ms/step - loss: 0.2699 - accuracy: 0.8852\n",
      "Epoch 44/175\n",
      "7/7 [==============================] - 0s 42ms/step - loss: 0.2991 - accuracy: 0.8947\n",
      "Epoch 45/175\n",
      "7/7 [==============================] - 0s 40ms/step - loss: 0.2807 - accuracy: 0.9043\n",
      "Epoch 46/175\n",
      "7/7 [==============================] - 0s 39ms/step - loss: 0.2757 - accuracy: 0.8804\n",
      "Epoch 47/175\n",
      "7/7 [==============================] - 0s 39ms/step - loss: 0.2978 - accuracy: 0.8852\n",
      "Epoch 48/175\n",
      "7/7 [==============================] - 0s 38ms/step - loss: 0.2853 - accuracy: 0.8995\n",
      "Epoch 49/175\n",
      "7/7 [==============================] - 0s 39ms/step - loss: 0.2786 - accuracy: 0.8852\n",
      "Epoch 50/175\n",
      "7/7 [==============================] - 0s 40ms/step - loss: 0.2676 - accuracy: 0.9043\n",
      "Epoch 51/175\n",
      "7/7 [==============================] - 0s 39ms/step - loss: 0.3084 - accuracy: 0.8804\n",
      "Epoch 52/175\n",
      "7/7 [==============================] - 0s 40ms/step - loss: 0.2704 - accuracy: 0.9043\n",
      "Epoch 53/175\n",
      "7/7 [==============================] - 0s 39ms/step - loss: 0.2760 - accuracy: 0.8900\n",
      "Epoch 54/175\n",
      "7/7 [==============================] - 0s 40ms/step - loss: 0.2877 - accuracy: 0.8900\n",
      "Epoch 55/175\n",
      "7/7 [==============================] - 0s 45ms/step - loss: 0.2829 - accuracy: 0.8804\n",
      "Epoch 56/175\n",
      "7/7 [==============================] - 0s 45ms/step - loss: 0.2866 - accuracy: 0.8947\n",
      "Epoch 57/175\n",
      "7/7 [==============================] - 0s 43ms/step - loss: 0.3030 - accuracy: 0.8900\n",
      "Epoch 58/175\n",
      "7/7 [==============================] - 0s 41ms/step - loss: 0.2829 - accuracy: 0.8852\n",
      "Epoch 59/175\n",
      "7/7 [==============================] - 0s 40ms/step - loss: 0.2657 - accuracy: 0.9139\n",
      "Epoch 60/175\n",
      "7/7 [==============================] - 0s 39ms/step - loss: 0.2733 - accuracy: 0.8947\n",
      "Epoch 61/175\n",
      "7/7 [==============================] - 0s 39ms/step - loss: 0.2477 - accuracy: 0.9091\n",
      "Epoch 62/175\n",
      "7/7 [==============================] - 0s 39ms/step - loss: 0.2545 - accuracy: 0.9139\n",
      "Epoch 63/175\n",
      "7/7 [==============================] - 0s 39ms/step - loss: 0.2788 - accuracy: 0.8947\n",
      "Epoch 64/175\n",
      "7/7 [==============================] - 0s 39ms/step - loss: 0.2604 - accuracy: 0.9187\n",
      "Epoch 65/175\n",
      "7/7 [==============================] - 0s 37ms/step - loss: 0.2495 - accuracy: 0.9091\n",
      "Epoch 66/175\n",
      "7/7 [==============================] - 0s 39ms/step - loss: 0.2619 - accuracy: 0.8852\n",
      "Epoch 67/175\n",
      "7/7 [==============================] - 0s 38ms/step - loss: 0.2628 - accuracy: 0.9043\n",
      "Epoch 68/175\n",
      "7/7 [==============================] - 0s 41ms/step - loss: 0.2712 - accuracy: 0.8995\n",
      "Epoch 69/175\n",
      "7/7 [==============================] - 0s 44ms/step - loss: 0.3160 - accuracy: 0.8756\n",
      "Epoch 70/175\n",
      "7/7 [==============================] - 0s 44ms/step - loss: 0.2588 - accuracy: 0.8708\n",
      "Epoch 71/175\n",
      "7/7 [==============================] - 0s 42ms/step - loss: 0.2530 - accuracy: 0.8947\n",
      "Epoch 72/175\n",
      "7/7 [==============================] - 0s 39ms/step - loss: 0.2753 - accuracy: 0.8852\n",
      "Epoch 73/175\n",
      "7/7 [==============================] - 0s 39ms/step - loss: 0.2495 - accuracy: 0.9139\n",
      "Epoch 74/175\n",
      "7/7 [==============================] - 0s 39ms/step - loss: 0.2386 - accuracy: 0.9187\n",
      "Epoch 75/175\n",
      "7/7 [==============================] - 0s 40ms/step - loss: 0.2452 - accuracy: 0.8947\n",
      "Epoch 76/175\n",
      "7/7 [==============================] - 0s 38ms/step - loss: 0.2580 - accuracy: 0.8995\n",
      "Epoch 77/175\n",
      "7/7 [==============================] - 0s 42ms/step - loss: 0.2380 - accuracy: 0.9091\n",
      "Epoch 78/175\n",
      "7/7 [==============================] - 0s 38ms/step - loss: 0.2606 - accuracy: 0.9139\n",
      "Epoch 79/175\n",
      "7/7 [==============================] - 0s 39ms/step - loss: 0.2330 - accuracy: 0.9139\n",
      "Epoch 80/175\n",
      "7/7 [==============================] - 0s 40ms/step - loss: 0.2489 - accuracy: 0.9043\n",
      "Epoch 81/175\n",
      "7/7 [==============================] - 0s 38ms/step - loss: 0.2503 - accuracy: 0.9091\n",
      "Epoch 82/175\n",
      "7/7 [==============================] - 0s 41ms/step - loss: 0.2485 - accuracy: 0.9139\n",
      "Epoch 83/175\n"
     ]
    },
    {
     "name": "stdout",
     "output_type": "stream",
     "text": [
      "7/7 [==============================] - 0s 47ms/step - loss: 0.2676 - accuracy: 0.8995\n",
      "Epoch 84/175\n",
      "7/7 [==============================] - 0s 44ms/step - loss: 0.2554 - accuracy: 0.8947\n",
      "Epoch 85/175\n",
      "7/7 [==============================] - 0s 39ms/step - loss: 0.2888 - accuracy: 0.8804\n",
      "Epoch 86/175\n",
      "7/7 [==============================] - 0s 39ms/step - loss: 0.2693 - accuracy: 0.8900\n",
      "Epoch 87/175\n",
      "7/7 [==============================] - 0s 38ms/step - loss: 0.2412 - accuracy: 0.9091\n",
      "Epoch 88/175\n",
      "7/7 [==============================] - 0s 41ms/step - loss: 0.2406 - accuracy: 0.9043\n",
      "Epoch 89/175\n",
      "7/7 [==============================] - 0s 39ms/step - loss: 0.2358 - accuracy: 0.9091\n",
      "Epoch 90/175\n",
      "7/7 [==============================] - 0s 46ms/step - loss: 0.2269 - accuracy: 0.9282\n",
      "Epoch 91/175\n",
      "7/7 [==============================] - 0s 45ms/step - loss: 0.2393 - accuracy: 0.9139\n",
      "Epoch 92/175\n",
      "7/7 [==============================] - 0s 45ms/step - loss: 0.2699 - accuracy: 0.8995\n",
      "Epoch 93/175\n",
      "7/7 [==============================] - 0s 40ms/step - loss: 0.1929 - accuracy: 0.9139\n",
      "Epoch 94/175\n",
      "7/7 [==============================] - 0s 39ms/step - loss: 0.2203 - accuracy: 0.9139\n",
      "Epoch 95/175\n",
      "7/7 [==============================] - 0s 39ms/step - loss: 0.2162 - accuracy: 0.9234\n",
      "Epoch 96/175\n",
      "7/7 [==============================] - 0s 39ms/step - loss: 0.2090 - accuracy: 0.9187\n",
      "Epoch 97/175\n",
      "7/7 [==============================] - 0s 39ms/step - loss: 0.2225 - accuracy: 0.9378\n",
      "Epoch 98/175\n",
      "7/7 [==============================] - 0s 39ms/step - loss: 0.1961 - accuracy: 0.9234\n",
      "Epoch 99/175\n",
      "7/7 [==============================] - 0s 39ms/step - loss: 0.2063 - accuracy: 0.9187\n",
      "Epoch 100/175\n",
      "7/7 [==============================] - 0s 45ms/step - loss: 0.2193 - accuracy: 0.9139\n",
      "Epoch 101/175\n",
      "7/7 [==============================] - 0s 40ms/step - loss: 0.1969 - accuracy: 0.9378\n",
      "Epoch 102/175\n",
      "7/7 [==============================] - 0s 39ms/step - loss: 0.2151 - accuracy: 0.8995\n",
      "Epoch 103/175\n",
      "7/7 [==============================] - 0s 39ms/step - loss: 0.2106 - accuracy: 0.8947\n",
      "Epoch 104/175\n",
      "7/7 [==============================] - 0s 45ms/step - loss: 0.2230 - accuracy: 0.9282\n",
      "Epoch 105/175\n",
      "7/7 [==============================] - 0s 45ms/step - loss: 0.1874 - accuracy: 0.9282\n",
      "Epoch 106/175\n",
      "7/7 [==============================] - 0s 44ms/step - loss: 0.2110 - accuracy: 0.9282\n",
      "Epoch 107/175\n",
      "7/7 [==============================] - 0s 40ms/step - loss: 0.2150 - accuracy: 0.9091\n",
      "Epoch 108/175\n",
      "7/7 [==============================] - 0s 39ms/step - loss: 0.2075 - accuracy: 0.9139\n",
      "Epoch 109/175\n",
      "7/7 [==============================] - 0s 38ms/step - loss: 0.1933 - accuracy: 0.9043\n",
      "Epoch 110/175\n",
      "7/7 [==============================] - 0s 40ms/step - loss: 0.2010 - accuracy: 0.9187\n",
      "Epoch 111/175\n",
      "7/7 [==============================] - 0s 39ms/step - loss: 0.1776 - accuracy: 0.9282\n",
      "Epoch 112/175\n",
      "7/7 [==============================] - 0s 39ms/step - loss: 0.1944 - accuracy: 0.9187\n",
      "Epoch 113/175\n",
      "7/7 [==============================] - 0s 39ms/step - loss: 0.2737 - accuracy: 0.9043\n",
      "Epoch 114/175\n",
      "7/7 [==============================] - 0s 46ms/step - loss: 0.2046 - accuracy: 0.9091\n",
      "Epoch 115/175\n",
      "7/7 [==============================] - 0s 43ms/step - loss: 0.2013 - accuracy: 0.9187\n",
      "Epoch 116/175\n",
      "7/7 [==============================] - 0s 40ms/step - loss: 0.2096 - accuracy: 0.9139\n",
      "Epoch 117/175\n",
      "7/7 [==============================] - 0s 45ms/step - loss: 0.2122 - accuracy: 0.8995\n",
      "Epoch 118/175\n",
      "7/7 [==============================] - 0s 42ms/step - loss: 0.2046 - accuracy: 0.9282\n",
      "Epoch 119/175\n",
      "7/7 [==============================] - 0s 40ms/step - loss: 0.1825 - accuracy: 0.9282\n",
      "Epoch 120/175\n",
      "7/7 [==============================] - 0s 39ms/step - loss: 0.1788 - accuracy: 0.9330\n",
      "Epoch 121/175\n",
      "7/7 [==============================] - 0s 38ms/step - loss: 0.2180 - accuracy: 0.9187\n",
      "Epoch 122/175\n",
      "7/7 [==============================] - 0s 40ms/step - loss: 0.1737 - accuracy: 0.9282\n",
      "Epoch 123/175\n",
      "7/7 [==============================] - 0s 43ms/step - loss: 0.1856 - accuracy: 0.9282\n",
      "Epoch 124/175\n",
      "7/7 [==============================] - 0s 45ms/step - loss: 0.1640 - accuracy: 0.9330\n",
      "Epoch 125/175\n",
      "7/7 [==============================] - 0s 42ms/step - loss: 0.2089 - accuracy: 0.9234\n",
      "Epoch 126/175\n",
      "7/7 [==============================] - 0s 40ms/step - loss: 0.1725 - accuracy: 0.9139\n",
      "Epoch 127/175\n",
      "7/7 [==============================] - 0s 39ms/step - loss: 0.1862 - accuracy: 0.9282\n",
      "Epoch 128/175\n",
      "7/7 [==============================] - 0s 39ms/step - loss: 0.1634 - accuracy: 0.9330\n",
      "Epoch 129/175\n",
      "7/7 [==============================] - 0s 42ms/step - loss: 0.1479 - accuracy: 0.9378\n",
      "Epoch 130/175\n",
      "7/7 [==============================] - 0s 48ms/step - loss: 0.1827 - accuracy: 0.9330\n",
      "Epoch 131/175\n",
      "7/7 [==============================] - 0s 44ms/step - loss: 0.1690 - accuracy: 0.9330\n",
      "Epoch 132/175\n",
      "7/7 [==============================] - 0s 37ms/step - loss: 0.1417 - accuracy: 0.9330\n",
      "Epoch 133/175\n",
      "7/7 [==============================] - 0s 39ms/step - loss: 0.1840 - accuracy: 0.9330\n",
      "Epoch 134/175\n",
      "7/7 [==============================] - 0s 40ms/step - loss: 0.1784 - accuracy: 0.9234\n",
      "Epoch 135/175\n",
      "7/7 [==============================] - 0s 38ms/step - loss: 0.1739 - accuracy: 0.9187\n",
      "Epoch 136/175\n",
      "7/7 [==============================] - 0s 40ms/step - loss: 0.1647 - accuracy: 0.9330\n",
      "Epoch 137/175\n",
      "7/7 [==============================] - 0s 46ms/step - loss: 0.1793 - accuracy: 0.9187\n",
      "Epoch 138/175\n",
      "7/7 [==============================] - 0s 46ms/step - loss: 0.1739 - accuracy: 0.9234\n",
      "Epoch 139/175\n",
      "7/7 [==============================] - 0s 45ms/step - loss: 0.2026 - accuracy: 0.9187\n",
      "Epoch 140/175\n",
      "7/7 [==============================] - 0s 45ms/step - loss: 0.1623 - accuracy: 0.9330\n",
      "Epoch 141/175\n",
      "7/7 [==============================] - 0s 39ms/step - loss: 0.1639 - accuracy: 0.9378\n",
      "Epoch 142/175\n",
      "7/7 [==============================] - 0s 45ms/step - loss: 0.1488 - accuracy: 0.9330\n",
      "Epoch 143/175\n",
      "7/7 [==============================] - 0s 44ms/step - loss: 0.1656 - accuracy: 0.9378\n",
      "Epoch 144/175\n",
      "7/7 [==============================] - 0s 41ms/step - loss: 0.1474 - accuracy: 0.9522\n",
      "Epoch 145/175\n",
      "7/7 [==============================] - 0s 45ms/step - loss: 0.1724 - accuracy: 0.9187\n",
      "Epoch 146/175\n",
      "7/7 [==============================] - 0s 40ms/step - loss: 0.1775 - accuracy: 0.9282\n",
      "Epoch 147/175\n",
      "7/7 [==============================] - 0s 38ms/step - loss: 0.1655 - accuracy: 0.9330\n",
      "Epoch 148/175\n",
      "7/7 [==============================] - 0s 39ms/step - loss: 0.1736 - accuracy: 0.8995\n",
      "Epoch 149/175\n",
      "7/7 [==============================] - 0s 45ms/step - loss: 0.1889 - accuracy: 0.9234\n",
      "Epoch 150/175\n",
      "7/7 [==============================] - 0s 40ms/step - loss: 0.1873 - accuracy: 0.9234\n",
      "Epoch 151/175\n",
      "7/7 [==============================] - 0s 42ms/step - loss: 0.1462 - accuracy: 0.9330\n",
      "Epoch 152/175\n",
      "7/7 [==============================] - 0s 46ms/step - loss: 0.1748 - accuracy: 0.9187\n",
      "Epoch 153/175\n",
      "7/7 [==============================] - 0s 42ms/step - loss: 0.1892 - accuracy: 0.9330\n",
      "Epoch 154/175\n",
      "7/7 [==============================] - 0s 40ms/step - loss: 0.1874 - accuracy: 0.9426\n",
      "Epoch 155/175\n",
      "7/7 [==============================] - 0s 46ms/step - loss: 0.1450 - accuracy: 0.9378\n",
      "Epoch 156/175\n",
      "7/7 [==============================] - 0s 41ms/step - loss: 0.1656 - accuracy: 0.9282\n",
      "Epoch 157/175\n",
      "7/7 [==============================] - 0s 39ms/step - loss: 0.1624 - accuracy: 0.9187\n",
      "Epoch 158/175\n",
      "7/7 [==============================] - 0s 40ms/step - loss: 0.1680 - accuracy: 0.9187\n",
      "Epoch 159/175\n",
      "7/7 [==============================] - 0s 41ms/step - loss: 0.1466 - accuracy: 0.9330\n",
      "Epoch 160/175\n",
      "7/7 [==============================] - 0s 40ms/step - loss: 0.1500 - accuracy: 0.9234\n",
      "Epoch 161/175\n",
      "7/7 [==============================] - 0s 43ms/step - loss: 0.1343 - accuracy: 0.9330\n",
      "Epoch 162/175\n",
      "7/7 [==============================] - 0s 43ms/step - loss: 0.1319 - accuracy: 0.9569\n",
      "Epoch 163/175\n",
      "7/7 [==============================] - 0s 39ms/step - loss: 0.1346 - accuracy: 0.9474\n",
      "Epoch 164/175\n",
      "7/7 [==============================] - 0s 41ms/step - loss: 0.1361 - accuracy: 0.9426\n",
      "Epoch 165/175\n"
     ]
    },
    {
     "name": "stdout",
     "output_type": "stream",
     "text": [
      "7/7 [==============================] - 0s 44ms/step - loss: 0.1553 - accuracy: 0.9187\n",
      "Epoch 166/175\n",
      "7/7 [==============================] - 0s 38ms/step - loss: 0.1533 - accuracy: 0.9234\n",
      "Epoch 167/175\n",
      "7/7 [==============================] - 0s 39ms/step - loss: 0.1350 - accuracy: 0.9474\n",
      "Epoch 168/175\n",
      "7/7 [==============================] - 0s 39ms/step - loss: 0.1257 - accuracy: 0.9474\n",
      "Epoch 169/175\n",
      "7/7 [==============================] - 0s 39ms/step - loss: 0.1267 - accuracy: 0.9474\n",
      "Epoch 170/175\n",
      "7/7 [==============================] - 0s 39ms/step - loss: 0.1483 - accuracy: 0.9330\n",
      "Epoch 171/175\n",
      "7/7 [==============================] - 0s 39ms/step - loss: 0.1284 - accuracy: 0.9426\n",
      "Epoch 172/175\n",
      "7/7 [==============================] - 0s 40ms/step - loss: 0.1462 - accuracy: 0.9234\n",
      "Epoch 173/175\n",
      "7/7 [==============================] - 0s 39ms/step - loss: 0.1361 - accuracy: 0.9282\n",
      "Epoch 174/175\n",
      "7/7 [==============================] - 0s 41ms/step - loss: 0.1191 - accuracy: 0.9522\n",
      "Epoch 175/175\n",
      "7/7 [==============================] - 0s 37ms/step - loss: 0.1533 - accuracy: 0.9378\n"
     ]
    },
    {
     "data": {
      "text/plain": [
       "<keras.callbacks.History at 0x20546cc7d60>"
      ]
     },
     "execution_count": 8,
     "metadata": {},
     "output_type": "execute_result"
    }
   ],
   "source": [
    "model.fit(X_train, y_train, epochs=175)"
   ]
  },
  {
   "cell_type": "code",
   "execution_count": 9,
   "id": "c0aad71a",
   "metadata": {},
   "outputs": [
    {
     "name": "stdout",
     "output_type": "stream",
     "text": [
      "2/2 [==============================] - 0s 23ms/step - loss: 0.6551 - accuracy: 0.9000\n"
     ]
    },
    {
     "data": {
      "text/plain": [
       "[0.6550720930099487, 0.8999999761581421]"
      ]
     },
     "execution_count": 9,
     "metadata": {},
     "output_type": "execute_result"
    }
   ],
   "source": [
    "model.evaluate(X_test, y_test)"
   ]
  },
  {
   "cell_type": "code",
   "execution_count": 45,
   "id": "db3431d2",
   "metadata": {},
   "outputs": [],
   "source": [
    "l = []\n",
    "for i in range(10): l.append(modelr.predict(np.array([X_test[i]]))[0][1])"
   ]
  },
  {
   "cell_type": "code",
   "execution_count": 46,
   "id": "9e704f88",
   "metadata": {},
   "outputs": [
    {
     "name": "stdout",
     "output_type": "stream",
     "text": [
      "[0.99977523, 0.9952931, 0.9944701, 0.9911547, 0.968082, 0.985515, 0.9573049, 0.8473373, 0.95462185, 0.9994598]\n",
      "[[0. 1.]\n",
      " [0. 1.]\n",
      " [0. 1.]\n",
      " [0. 1.]\n",
      " [0. 1.]\n",
      " [1. 0.]\n",
      " [0. 1.]\n",
      " [0. 1.]\n",
      " [0. 1.]\n",
      " [0. 1.]]\n"
     ]
    }
   ],
   "source": [
    "print(f\"{l}\\n{y_test[:10]}\")"
   ]
  },
  {
   "cell_type": "markdown",
   "id": "df98e957",
   "metadata": {},
   "source": [
    "## DenseNet Model"
   ]
  },
  {
   "cell_type": "code",
   "execution_count": null,
   "id": "8986e090",
   "metadata": {},
   "outputs": [],
   "source": [
    "modeld = keras.applications.DenseNet121(\n",
    "    include_top=True,\n",
    "    weights=None,\n",
    "    input_tensor=None,\n",
    "    input_shape=(64, 64, 3),\n",
    "    pooling='max',\n",
    "    classes=2,\n",
    ")"
   ]
  },
  {
   "cell_type": "code",
   "execution_count": null,
   "id": "3b05891a",
   "metadata": {},
   "outputs": [],
   "source": [
    "modeld.compile(optimizer='adam', metrics=['accuracy'], loss=keras.losses.categorical_crossentropy)"
   ]
  },
  {
   "cell_type": "code",
   "execution_count": null,
   "id": "66af4df1",
   "metadata": {},
   "outputs": [],
   "source": [
    "modeld.fit(X_train, y_train, epochs=40)"
   ]
  },
  {
   "cell_type": "code",
   "execution_count": null,
   "id": "edbff4a9",
   "metadata": {},
   "outputs": [],
   "source": [
    "modeld.evaluate(X_train, y_train)"
   ]
  },
  {
   "cell_type": "code",
   "execution_count": null,
   "id": "3b6ac703",
   "metadata": {},
   "outputs": [],
   "source": [
    "modeld.predict(np.array([X_test[1]]))[0][1] > .5"
   ]
  },
  {
   "cell_type": "markdown",
   "id": "bbee0c77",
   "metadata": {},
   "source": [
    "## Resnet Model"
   ]
  },
  {
   "cell_type": "code",
   "execution_count": null,
   "id": "7e98c033",
   "metadata": {},
   "outputs": [],
   "source": [
    "modelr = keras.applications.ResNet101(\n",
    "    include_top=True,\n",
    "    weights=None,\n",
    "    input_tensor=None,\n",
    "    input_shape=(64, 64, 3),\n",
    "    pooling='max',\n",
    "    classes=2,\n",
    ")"
   ]
  },
  {
   "cell_type": "code",
   "execution_count": null,
   "id": "45581e01",
   "metadata": {},
   "outputs": [],
   "source": [
    "modelr.compile(optimizer='adam', metrics=['accuracy'], loss=keras.losses.categorical_crossentropy)"
   ]
  },
  {
   "cell_type": "code",
   "execution_count": null,
   "id": "efc08431",
   "metadata": {},
   "outputs": [],
   "source": [
    "modelr.fit(X_train, y_train, epochs=40)"
   ]
  },
  {
   "cell_type": "code",
   "execution_count": null,
   "id": "940e6a78",
   "metadata": {},
   "outputs": [],
   "source": [
    "modelr.evaluate(X_test, y_test)"
   ]
  },
  {
   "cell_type": "code",
   "execution_count": null,
   "id": "f73f973d",
   "metadata": {},
   "outputs": [],
   "source": []
  }
 ],
 "metadata": {
  "kernelspec": {
   "display_name": "Python 3 (ipykernel)",
   "language": "python",
   "name": "python3"
  },
  "language_info": {
   "codemirror_mode": {
    "name": "ipython",
    "version": 3
   },
   "file_extension": ".py",
   "mimetype": "text/x-python",
   "name": "python",
   "nbconvert_exporter": "python",
   "pygments_lexer": "ipython3",
   "version": "3.8.13"
  }
 },
 "nbformat": 4,
 "nbformat_minor": 5
}
