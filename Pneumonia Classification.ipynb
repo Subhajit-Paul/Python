{
 "cells": [
  {
   "cell_type": "code",
   "execution_count": 1,
   "id": "371c4252",
   "metadata": {},
   "outputs": [],
   "source": [
    "import tensorflow\n",
    "from tensorflow import keras\n",
    "from keras.layers import Dense, Conv2D, MaxPool2D, Flatten, Dropout\n",
    "from keras.applications.densenet import DenseNet121\n",
    "import os\n",
    "import numpy as np\n",
    "import cv2\n",
    "import random\n",
    "import matplotlib.pyplot as plt\n",
    "%matplotlib inline"
   ]
  },
  {
   "cell_type": "code",
   "execution_count": 2,
   "id": "80a368c3",
   "metadata": {},
   "outputs": [],
   "source": [
    "main_folder = r\"F:\\Resource\\pneumonia\\chest_xray\"\n",
    "trainNormal = main_folder + r\"\\train\\NORMAL\"\n",
    "trainPneumonia = main_folder + r\"\\train\\PNEUMONIA\"\n",
    "testNormal = main_folder + r\"\\test\\NORMAL\"\n",
    "testPneumonia = main_folder + r\"\\test\\PNEUMONIA\""
   ]
  },
  {
   "cell_type": "code",
   "execution_count": 3,
   "id": "9425d667",
   "metadata": {},
   "outputs": [],
   "source": [
    "X_train_P = np.zeros((3875, 180, 180))\n",
    "i = 0\n",
    "for image in os.listdir(trainPneumonia):\n",
    "    X_train_P[i] = cv2.resize(cv2.imread(trainPneumonia + r\"\\\\\" + image)[:,:, 0], (224, 224))[22:202, 22:202]\n",
    "    i += 1"
   ]
  },
  {
   "cell_type": "code",
   "execution_count": 4,
   "id": "abd2ab4b",
   "metadata": {},
   "outputs": [],
   "source": [
    "X_train_N = np.zeros((1341, 180, 180))\n",
    "i = 0\n",
    "for image in os.listdir(trainNormal):\n",
    "    X_train_N[i] = cv2.resize(cv2.imread(trainNormal + r\"\\\\\" + image)[:,:, 0], (224, 224))[22:202, 22:202]\n",
    "    i += 1"
   ]
  },
  {
   "cell_type": "code",
   "execution_count": 5,
   "id": "3989efb8",
   "metadata": {},
   "outputs": [],
   "source": [
    "y_train = np.zeros((5216, 1))\n",
    "X_train = np.zeros((5216, 180, 180))\n",
    "random_i_p_tr = random.sample(range(3875), 3875)\n",
    "random_i_n_tr = random.sample(range(1341), 1341)"
   ]
  },
  {
   "cell_type": "code",
   "execution_count": 6,
   "id": "3ecf30c1",
   "metadata": {},
   "outputs": [],
   "source": [
    "X_test_P = np.zeros((390, 180, 180))\n",
    "i = 0\n",
    "for image in os.listdir(testPneumonia):\n",
    "    X_test_P[i] = cv2.resize(cv2.imread(testPneumonia + r\"\\\\\" + image)[:,:, 0], (224, 224))[22:202, 22:202]\n",
    "    i += 1"
   ]
  },
  {
   "cell_type": "code",
   "execution_count": 7,
   "id": "139da8b6",
   "metadata": {},
   "outputs": [],
   "source": [
    "X_test_N = np.zeros((234, 180, 180))\n",
    "i = 0\n",
    "for image in os.listdir(testNormal):\n",
    "    X_test_N[i] = cv2.resize(cv2.imread(testNormal + r\"\\\\\" + image)[:,:, 0], (224, 224))[22:202, 22:202]\n",
    "    i += 1"
   ]
  },
  {
   "cell_type": "code",
   "execution_count": 8,
   "id": "1c1da9a8",
   "metadata": {},
   "outputs": [],
   "source": [
    "y_test = np.zeros((624, 1))\n",
    "X_test = np.zeros((624, 180, 180))\n",
    "random_i_p_ts = random.sample(range(390), 390)\n",
    "random_i_n_ts = random.sample(range(234), 234)"
   ]
  },
  {
   "cell_type": "code",
   "execution_count": 9,
   "id": "de145876",
   "metadata": {},
   "outputs": [],
   "source": [
    "i, j, flagn, flagp = 0, 0, True, True\n",
    "for l in range(5216):\n",
    "    loc = np.random.randint(0, 2)\n",
    "    if loc == 1:\n",
    "        if flagp:\n",
    "            y_train[l] = 1\n",
    "            X_train[l] = X_train_P[random_i_p_tr[i]]\n",
    "            i += 1\n",
    "        if i == 3875: flagp = False\n",
    "    else:\n",
    "        if flagn:\n",
    "            y_train[l] = 0\n",
    "            X_train[l] = X_train_N[random_i_n_tr[j]]\n",
    "            j += 1\n",
    "        if j == 1341: flagn = False"
   ]
  },
  {
   "cell_type": "code",
   "execution_count": 10,
   "id": "74e92d68",
   "metadata": {},
   "outputs": [],
   "source": [
    "i, j, flagn, flagp = 0, 0, True, True\n",
    "for l in range(624):\n",
    "    loc = np.random.randint(0, 2)\n",
    "    if loc == 1:\n",
    "        if flagp:\n",
    "            y_test[l] = 1\n",
    "            X_test[l] = X_test_P[random_i_p_ts[i]]\n",
    "            i += 1\n",
    "        if i == 390: flagp = False\n",
    "    else:\n",
    "        if flagn:\n",
    "            y_test[l] = 0\n",
    "            X_test[l] = X_test_N[random_i_n_ts[j]]\n",
    "            j += 1\n",
    "        if j == 234: flagn = False"
   ]
  },
  {
   "cell_type": "code",
   "execution_count": 11,
   "id": "24acea2d",
   "metadata": {
    "scrolled": true
   },
   "outputs": [],
   "source": [
    "X_train, X_test, y_train, y_test = X_train.astype(np.float16) / 255, X_test.astype(np.float16) / 255, y_train.astype(np.float16), y_test.astype(np.float16)\n",
    "X_train = np.expand_dims(X_train, -1)\n",
    "X_test = np.expand_dims(X_test, -1)\n",
    "\n",
    "y_train = keras.utils.to_categorical(y_train, num_classes = 2)\n",
    "y_test = keras.utils.to_categorical(y_test, num_classes = 2)"
   ]
  },
  {
   "cell_type": "code",
   "execution_count": 12,
   "id": "27e7b6f2",
   "metadata": {},
   "outputs": [],
   "source": [
    "model = keras.Sequential()"
   ]
  },
  {
   "cell_type": "code",
   "execution_count": 13,
   "id": "b2c185ef",
   "metadata": {},
   "outputs": [],
   "source": [
    "model.add(Conv2D(64, (3, 3), input_shape = (180, 180, 1), activation = 'relu'))\n",
    "model.add(MaxPool2D((4, 4)))\n",
    "\n",
    "model.add(Conv2D(128, (3, 3), activation = 'relu'))\n",
    "model.add(MaxPool2D((4, 4)))\n",
    "\n",
    "model.add(Dropout(.5))\n",
    "model.add(Flatten())\n",
    "model.add(Dropout(.5))\n",
    "model.add(Dense(2, activation = 'softmax'))"
   ]
  },
  {
   "cell_type": "code",
   "execution_count": 14,
   "id": "a0c1c649",
   "metadata": {},
   "outputs": [],
   "source": [
    "model.compile(optimizer = 'adam', loss = keras.losses.categorical_crossentropy, metrics=['accuracy'])"
   ]
  },
  {
   "cell_type": "code",
   "execution_count": 36,
   "id": "2f3abc3b",
   "metadata": {
    "scrolled": true
   },
   "outputs": [
    {
     "name": "stdout",
     "output_type": "stream",
     "text": [
      "Epoch 1/30\n",
      "163/163 [==============================] - 95s 582ms/step - loss: 0.0689 - accuracy: 0.9751\n",
      "Epoch 2/30\n",
      "163/163 [==============================] - 95s 582ms/step - loss: 0.0759 - accuracy: 0.9718\n",
      "Epoch 3/30\n",
      "163/163 [==============================] - 95s 581ms/step - loss: 0.0691 - accuracy: 0.9730\n",
      "Epoch 4/30\n",
      "163/163 [==============================] - 95s 581ms/step - loss: 0.0842 - accuracy: 0.9716\n",
      "Epoch 5/30\n",
      "163/163 [==============================] - 95s 582ms/step - loss: 0.0618 - accuracy: 0.9785\n",
      "Epoch 6/30\n",
      "163/163 [==============================] - 95s 581ms/step - loss: 0.0675 - accuracy: 0.9758\n",
      "Epoch 7/30\n",
      "163/163 [==============================] - 95s 583ms/step - loss: 0.0710 - accuracy: 0.9739\n",
      "Epoch 8/30\n",
      "163/163 [==============================] - 95s 582ms/step - loss: 0.0640 - accuracy: 0.9768\n",
      "Epoch 9/30\n",
      "163/163 [==============================] - 95s 583ms/step - loss: 0.0675 - accuracy: 0.9751\n",
      "Epoch 10/30\n",
      "163/163 [==============================] - 95s 581ms/step - loss: 0.0574 - accuracy: 0.9774\n",
      "Epoch 11/30\n",
      "163/163 [==============================] - 95s 582ms/step - loss: 0.0553 - accuracy: 0.9810\n",
      "Epoch 12/30\n",
      "163/163 [==============================] - 95s 583ms/step - loss: 0.0584 - accuracy: 0.9781\n",
      "Epoch 13/30\n",
      "163/163 [==============================] - 95s 582ms/step - loss: 0.0651 - accuracy: 0.9753\n",
      "Epoch 14/30\n",
      "163/163 [==============================] - 95s 581ms/step - loss: 0.0619 - accuracy: 0.9758\n",
      "Epoch 15/30\n",
      "163/163 [==============================] - 95s 583ms/step - loss: 0.0615 - accuracy: 0.9760\n",
      "Epoch 16/30\n",
      "163/163 [==============================] - 95s 581ms/step - loss: 0.0550 - accuracy: 0.9808\n",
      "Epoch 17/30\n",
      "163/163 [==============================] - 95s 583ms/step - loss: 0.0588 - accuracy: 0.9772\n",
      "Epoch 18/30\n",
      "163/163 [==============================] - 95s 584ms/step - loss: 0.0569 - accuracy: 0.9778\n",
      "Epoch 19/30\n",
      "163/163 [==============================] - 95s 581ms/step - loss: 0.0570 - accuracy: 0.9783\n",
      "Epoch 20/30\n",
      "163/163 [==============================] - 95s 580ms/step - loss: 0.0560 - accuracy: 0.9785\n",
      "Epoch 21/30\n",
      "163/163 [==============================] - 95s 582ms/step - loss: 0.0515 - accuracy: 0.9806\n",
      "Epoch 22/30\n",
      "163/163 [==============================] - 95s 580ms/step - loss: 0.0548 - accuracy: 0.9789\n",
      "Epoch 23/30\n",
      "163/163 [==============================] - 95s 582ms/step - loss: 0.0524 - accuracy: 0.9818\n",
      "Epoch 24/30\n",
      "163/163 [==============================] - 95s 582ms/step - loss: 0.0578 - accuracy: 0.9803\n",
      "Epoch 25/30\n",
      "163/163 [==============================] - 95s 581ms/step - loss: 0.0625 - accuracy: 0.9787\n",
      "Epoch 26/30\n",
      "163/163 [==============================] - 95s 581ms/step - loss: 0.0502 - accuracy: 0.9793\n",
      "Epoch 27/30\n",
      "163/163 [==============================] - 95s 583ms/step - loss: 0.0466 - accuracy: 0.9814\n",
      "Epoch 28/30\n",
      "163/163 [==============================] - 95s 582ms/step - loss: 0.0477 - accuracy: 0.9835\n",
      "Epoch 29/30\n",
      "163/163 [==============================] - 95s 581ms/step - loss: 0.0532 - accuracy: 0.9806\n",
      "Epoch 30/30\n",
      "163/163 [==============================] - 95s 582ms/step - loss: 0.0501 - accuracy: 0.9806\n"
     ]
    },
    {
     "data": {
      "text/plain": [
       "<keras.callbacks.History at 0x14d37f362b0>"
      ]
     },
     "execution_count": 36,
     "metadata": {},
     "output_type": "execute_result"
    }
   ],
   "source": [
    "model.fit(X_train, y_train, epochs = 30, shuffle=True)"
   ]
  },
  {
   "cell_type": "code",
   "execution_count": 37,
   "id": "f81bc103",
   "metadata": {},
   "outputs": [
    {
     "name": "stdout",
     "output_type": "stream",
     "text": [
      "Epoch 1/30\n",
      "163/163 [==============================] - 95s 585ms/step - loss: 0.0533 - accuracy: 0.9783\n",
      "Epoch 2/30\n",
      "163/163 [==============================] - 96s 590ms/step - loss: 0.0545 - accuracy: 0.9795\n",
      "Epoch 3/30\n",
      "163/163 [==============================] - 96s 588ms/step - loss: 0.0485 - accuracy: 0.9797\n",
      "Epoch 4/30\n",
      "163/163 [==============================] - 96s 590ms/step - loss: 0.0449 - accuracy: 0.9824\n",
      "Epoch 5/30\n",
      "163/163 [==============================] - 96s 588ms/step - loss: 0.0436 - accuracy: 0.9835\n",
      "Epoch 6/30\n",
      "163/163 [==============================] - 96s 589ms/step - loss: 0.0460 - accuracy: 0.9818\n",
      "Epoch 7/30\n",
      "163/163 [==============================] - 96s 589ms/step - loss: 0.0444 - accuracy: 0.9833\n",
      "Epoch 8/30\n",
      "163/163 [==============================] - 95s 583ms/step - loss: 0.0429 - accuracy: 0.9835\n",
      "Epoch 9/30\n",
      "163/163 [==============================] - 95s 580ms/step - loss: 0.0471 - accuracy: 0.9814\n",
      "Epoch 10/30\n",
      "163/163 [==============================] - 95s 581ms/step - loss: 0.0523 - accuracy: 0.9816\n",
      "Epoch 11/30\n",
      "163/163 [==============================] - 95s 582ms/step - loss: 0.0438 - accuracy: 0.9843\n",
      "Epoch 12/30\n",
      "163/163 [==============================] - 96s 586ms/step - loss: 0.0462 - accuracy: 0.9814\n",
      "Epoch 13/30\n",
      "163/163 [==============================] - 95s 580ms/step - loss: 0.0425 - accuracy: 0.9847\n",
      "Epoch 14/30\n",
      "163/163 [==============================] - 95s 584ms/step - loss: 0.0393 - accuracy: 0.9860\n",
      "Epoch 15/30\n",
      "163/163 [==============================] - 95s 583ms/step - loss: 0.0410 - accuracy: 0.9856\n",
      "Epoch 16/30\n",
      "163/163 [==============================] - 94s 579ms/step - loss: 0.0393 - accuracy: 0.9827\n",
      "Epoch 17/30\n",
      "163/163 [==============================] - 94s 580ms/step - loss: 0.0368 - accuracy: 0.9868\n",
      "Epoch 18/30\n",
      "163/163 [==============================] - 95s 580ms/step - loss: 0.0472 - accuracy: 0.9803\n",
      "Epoch 19/30\n",
      "163/163 [==============================] - 95s 580ms/step - loss: 0.0390 - accuracy: 0.9847\n",
      "Epoch 20/30\n",
      "163/163 [==============================] - 95s 581ms/step - loss: 0.0353 - accuracy: 0.9873\n",
      "Epoch 21/30\n",
      "163/163 [==============================] - 95s 582ms/step - loss: 0.0343 - accuracy: 0.9868\n",
      "Epoch 22/30\n",
      "163/163 [==============================] - 95s 582ms/step - loss: 0.0420 - accuracy: 0.9822\n",
      "Epoch 23/30\n",
      "163/163 [==============================] - 95s 580ms/step - loss: 0.0420 - accuracy: 0.9849\n",
      "Epoch 24/30\n",
      "163/163 [==============================] - 95s 582ms/step - loss: 0.0345 - accuracy: 0.9881\n",
      "Epoch 25/30\n",
      "163/163 [==============================] - 95s 580ms/step - loss: 0.0351 - accuracy: 0.9864\n",
      "Epoch 26/30\n",
      "163/163 [==============================] - 95s 581ms/step - loss: 0.0360 - accuracy: 0.9875\n",
      "Epoch 27/30\n",
      "163/163 [==============================] - 95s 581ms/step - loss: 0.0368 - accuracy: 0.9849\n",
      "Epoch 28/30\n",
      "163/163 [==============================] - 95s 582ms/step - loss: 0.0376 - accuracy: 0.9845\n",
      "Epoch 29/30\n",
      "163/163 [==============================] - 95s 580ms/step - loss: 0.0412 - accuracy: 0.9849\n",
      "Epoch 30/30\n",
      "163/163 [==============================] - 95s 581ms/step - loss: 0.0302 - accuracy: 0.9889\n"
     ]
    },
    {
     "data": {
      "text/plain": [
       "<keras.callbacks.History at 0x14d3907fb80>"
      ]
     },
     "execution_count": 37,
     "metadata": {},
     "output_type": "execute_result"
    }
   ],
   "source": [
    "model.fit(X_train, y_train, epochs = 30, shuffle=True)"
   ]
  },
  {
   "cell_type": "code",
   "execution_count": 38,
   "id": "3d1d1ab4",
   "metadata": {},
   "outputs": [
    {
     "name": "stdout",
     "output_type": "stream",
     "text": [
      "20/20 [==============================] - 3s 174ms/step - loss: 0.6818 - accuracy: 0.8157\n"
     ]
    },
    {
     "data": {
      "text/plain": [
       "[0.68177729845047, 0.8157051205635071]"
      ]
     },
     "execution_count": 38,
     "metadata": {},
     "output_type": "execute_result"
    }
   ],
   "source": [
    "model.evaluate(X_test, y_test)"
   ]
  },
  {
   "cell_type": "code",
   "execution_count": 19,
   "id": "af2e7ec9",
   "metadata": {},
   "outputs": [
    {
     "ename": "AttributeError",
     "evalue": "'str' object has no attribute 'to_json'",
     "output_type": "error",
     "traceback": [
      "\u001b[1;31m---------------------------------------------------------------------------\u001b[0m",
      "\u001b[1;31mAttributeError\u001b[0m                            Traceback (most recent call last)",
      "Input \u001b[1;32mIn [19]\u001b[0m, in \u001b[0;36m<cell line: 3>\u001b[1;34m()\u001b[0m\n\u001b[0;32m      1\u001b[0m \u001b[38;5;28;01mfrom\u001b[39;00m \u001b[38;5;21;01mkeras\u001b[39;00m\u001b[38;5;21;01m.\u001b[39;00m\u001b[38;5;21;01mmodels\u001b[39;00m \u001b[38;5;28;01mimport\u001b[39;00m model_from_json\n\u001b[0;32m      2\u001b[0m path \u001b[38;5;241m=\u001b[39m \u001b[38;5;124mr\u001b[39m\u001b[38;5;124m\"\u001b[39m\u001b[38;5;124mF:\u001b[39m\u001b[38;5;124m\\\u001b[39m\u001b[38;5;124mResource\u001b[39m\u001b[38;5;124m\\\u001b[39m\u001b[38;5;124mpneumonia\u001b[39m\u001b[38;5;124m\\\u001b[39m\u001b[38;5;124mNew folder\u001b[39m\u001b[38;5;124m\"\u001b[39m\n\u001b[1;32m----> 3\u001b[0m json_model \u001b[38;5;241m=\u001b[39m \u001b[43mmodel\u001b[49m\u001b[38;5;241;43m.\u001b[39;49m\u001b[43mto_json\u001b[49m()\n\u001b[0;32m      4\u001b[0m \u001b[38;5;28;01mwith\u001b[39;00m \u001b[38;5;28mopen\u001b[39m(path\u001b[38;5;241m+\u001b[39m\u001b[38;5;124m'\u001b[39m\u001b[38;5;130;01m\\\\\u001b[39;00m\u001b[38;5;124mcon_max_con_max_dense.json\u001b[39m\u001b[38;5;124m'\u001b[39m, \u001b[38;5;124m'\u001b[39m\u001b[38;5;124mw\u001b[39m\u001b[38;5;124m'\u001b[39m) \u001b[38;5;28;01mas\u001b[39;00m json_file:\n\u001b[0;32m      5\u001b[0m     json_file\u001b[38;5;241m.\u001b[39mwrite(json_model)\n",
      "\u001b[1;31mAttributeError\u001b[0m: 'str' object has no attribute 'to_json'"
     ]
    }
   ],
   "source": [
    "from keras.models import model_from_json\n",
    "path = r\"F:\\Resource\\pneumonia\\New folder\"\n",
    "json_model = model.to_json()\n",
    "with open(path+'\\\\con_max_con_max_dense.json', 'w') as json_file:\n",
    "    json_file.write(json_model)\n",
    "# model.save_weights(path + '\\\\con_max_con_max_dense_weights.h5')"
   ]
  },
  {
   "cell_type": "code",
   "execution_count": 21,
   "id": "6db4815e",
   "metadata": {},
   "outputs": [],
   "source": [
    "from keras.models import model_from_json\n",
    "path = r\"F:\\Resource\\pneumonia\"\n",
    "with open(path+'\\\\con_max_con_max_dense.json', 'r') as json_file:\n",
    "    mode = json_file.read()\n",
    "model = model_from_json(mode)\n",
    "model.load_weights(r\"F:\\Resource\\pneumonia\\New Folder\\con_max_con_max_dense_weights.h5\")"
   ]
  },
  {
   "cell_type": "code",
   "execution_count": 22,
   "id": "826442f9",
   "metadata": {},
   "outputs": [
    {
     "ename": "TypeError",
     "evalue": "'NoneType' object is not callable",
     "output_type": "error",
     "traceback": [
      "\u001b[1;31m---------------------------------------------------------------------------\u001b[0m",
      "\u001b[1;31mTypeError\u001b[0m                                 Traceback (most recent call last)",
      "Input \u001b[1;32mIn [22]\u001b[0m, in \u001b[0;36m<cell line: 1>\u001b[1;34m()\u001b[0m\n\u001b[1;32m----> 1\u001b[0m l \u001b[38;5;241m=\u001b[39m \u001b[43mmodel\u001b[49m\u001b[38;5;241;43m.\u001b[39;49m\u001b[43mcompute_loss\u001b[49m\u001b[43m(\u001b[49m\u001b[43m)\u001b[49m\n",
      "File \u001b[1;32m~\\anaconda3\\lib\\site-packages\\keras\\engine\\training.py:918\u001b[0m, in \u001b[0;36mModel.compute_loss\u001b[1;34m(***failed resolving arguments***)\u001b[0m\n\u001b[0;32m    867\u001b[0m \u001b[38;5;124;03m\"\"\"Compute the total loss, validate it, and return it.\u001b[39;00m\n\u001b[0;32m    868\u001b[0m \n\u001b[0;32m    869\u001b[0m \u001b[38;5;124;03mSubclasses can optionally override this method to provide custom loss\u001b[39;00m\n\u001b[1;32m   (...)\u001b[0m\n\u001b[0;32m    915\u001b[0m \u001b[38;5;124;03m  the case when called by `Model.test_step`).\u001b[39;00m\n\u001b[0;32m    916\u001b[0m \u001b[38;5;124;03m\"\"\"\u001b[39;00m\n\u001b[0;32m    917\u001b[0m \u001b[38;5;28;01mdel\u001b[39;00m x  \u001b[38;5;66;03m# The default implementation does not use `x`.\u001b[39;00m\n\u001b[1;32m--> 918\u001b[0m \u001b[38;5;28;01mreturn\u001b[39;00m \u001b[38;5;28;43mself\u001b[39;49m\u001b[38;5;241;43m.\u001b[39;49m\u001b[43mcompiled_loss\u001b[49m\u001b[43m(\u001b[49m\n\u001b[0;32m    919\u001b[0m \u001b[43m    \u001b[49m\u001b[43my\u001b[49m\u001b[43m,\u001b[49m\u001b[43m \u001b[49m\u001b[43my_pred\u001b[49m\u001b[43m,\u001b[49m\u001b[43m \u001b[49m\u001b[43msample_weight\u001b[49m\u001b[43m,\u001b[49m\u001b[43m \u001b[49m\u001b[43mregularization_losses\u001b[49m\u001b[38;5;241;43m=\u001b[39;49m\u001b[38;5;28;43mself\u001b[39;49m\u001b[38;5;241;43m.\u001b[39;49m\u001b[43mlosses\u001b[49m\u001b[43m)\u001b[49m\n",
      "\u001b[1;31mTypeError\u001b[0m: 'NoneType' object is not callable"
     ]
    }
   ],
   "source": []
  },
  {
   "cell_type": "code",
   "execution_count": 13,
   "id": "22240e24",
   "metadata": {},
   "outputs": [],
   "source": [
    "modeld = DenseNet121(include_top=True,\n",
    "    weights=None,\n",
    "    input_tensor=None,\n",
    "    input_shape=(180, 180, 1),\n",
    "    pooling='max',\n",
    "    classes=2,)"
   ]
  },
  {
   "cell_type": "code",
   "execution_count": 14,
   "id": "b6cedc2d",
   "metadata": {},
   "outputs": [],
   "source": [
    "modeld.compile(optimizer = 'adam', loss = keras.losses.categorical_crossentropy, metrics=['accuracy'])"
   ]
  },
  {
   "cell_type": "code",
   "execution_count": 16,
   "id": "8dd15240",
   "metadata": {},
   "outputs": [
    {
     "name": "stdout",
     "output_type": "stream",
     "text": [
      "Epoch 1/30\n",
      "163/163 [==============================] - 1158s 7s/step - loss: 0.2224 - accuracy: 0.9112\n",
      "Epoch 2/30\n",
      "163/163 [==============================] - 1145s 7s/step - loss: 0.1301 - accuracy: 0.9515\n",
      "Epoch 3/30\n",
      "163/163 [==============================] - 1145s 7s/step - loss: 0.1143 - accuracy: 0.9559\n",
      "Epoch 4/30\n",
      "163/163 [==============================] - 1145s 7s/step - loss: 0.1033 - accuracy: 0.9613\n",
      "Epoch 5/30\n",
      " 65/163 [==========>...................] - ETA: 11:45 - loss: 0.0890 - accuracy: 0.9668"
     ]
    },
    {
     "name": "stderr",
     "output_type": "stream",
     "text": [
      "\n",
      "KeyboardInterrupt\n",
      "\n"
     ]
    }
   ],
   "source": [
    "modeld.fit(X_train, y_train, epochs = 30, shuffle=True)"
   ]
  },
  {
   "cell_type": "code",
   "execution_count": 17,
   "id": "b9c4ab7e",
   "metadata": {},
   "outputs": [
    {
     "name": "stdout",
     "output_type": "stream",
     "text": [
      "20/20 [==============================] - 31s 1s/step - loss: 2.5181 - accuracy: 0.6298\n"
     ]
    },
    {
     "data": {
      "text/plain": [
       "[2.5180842876434326, 0.629807710647583]"
      ]
     },
     "execution_count": 17,
     "metadata": {},
     "output_type": "execute_result"
    }
   ],
   "source": [
    "modeld.evaluate(X_test, y_test)"
   ]
  },
  {
   "cell_type": "code",
   "execution_count": null,
   "id": "4588f668",
   "metadata": {},
   "outputs": [],
   "source": []
  }
 ],
 "metadata": {
  "kernelspec": {
   "display_name": "Python 3 (ipykernel)",
   "language": "python",
   "name": "python3"
  },
  "language_info": {
   "codemirror_mode": {
    "name": "ipython",
    "version": 3
   },
   "file_extension": ".py",
   "mimetype": "text/x-python",
   "name": "python",
   "nbconvert_exporter": "python",
   "pygments_lexer": "ipython3",
   "version": "3.8.13"
  }
 },
 "nbformat": 4,
 "nbformat_minor": 5
}
